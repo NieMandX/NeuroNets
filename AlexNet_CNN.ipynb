import numpy as np
import tesorflow as tf
